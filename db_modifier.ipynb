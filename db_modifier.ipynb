{
 "cells": [
  {
   "cell_type": "markdown",
   "metadata": {},
   "source": [
    "# <center>DATABASE MODIFIER FILE</center>\n",
    "\n",
    "### Modifying the database based on the requirements for the next 4 hours."
   ]
  },
  {
   "cell_type": "code",
   "execution_count": 187,
   "metadata": {},
   "outputs": [],
   "source": [
    "import numpy as np\n",
    "import pandas as pd\n",
    "from datetime import datetime, timedelta\n",
    "import sys"
   ]
  },
  {
   "cell_type": "code",
   "execution_count": 188,
   "metadata": {},
   "outputs": [],
   "source": [
    "pd.set_option('mode.chained_assignment', None)"
   ]
  },
  {
   "cell_type": "code",
   "execution_count": 189,
   "metadata": {},
   "outputs": [
    {
     "data": {
      "text/html": [
       "<div>\n",
       "<style scoped>\n",
       "    .dataframe tbody tr th:only-of-type {\n",
       "        vertical-align: middle;\n",
       "    }\n",
       "\n",
       "    .dataframe tbody tr th {\n",
       "        vertical-align: top;\n",
       "    }\n",
       "\n",
       "    .dataframe thead th {\n",
       "        text-align: right;\n",
       "    }\n",
       "</style>\n",
       "<table border=\"1\" class=\"dataframe\">\n",
       "  <thead>\n",
       "    <tr style=\"text-align: right;\">\n",
       "      <th></th>\n",
       "      <th>DATE_TIME</th>\n",
       "      <th>CB_FLOW</th>\n",
       "      <th>CB_PRESS</th>\n",
       "      <th>CB_TEMP</th>\n",
       "      <th>STEAM_FLOW</th>\n",
       "      <th>STEAM_TEMP</th>\n",
       "      <th>STEAM_PRESS</th>\n",
       "      <th>O2_PRESS</th>\n",
       "      <th>O2_FLOW</th>\n",
       "      <th>O2_PER</th>\n",
       "      <th>...</th>\n",
       "      <th>TOP_TEMP2</th>\n",
       "      <th>TOP_TEMP3</th>\n",
       "      <th>TOP_TEMP4</th>\n",
       "      <th>TOP_SPRAY</th>\n",
       "      <th>TOP_TEMP</th>\n",
       "      <th>TOP_PRESS_1</th>\n",
       "      <th>CO</th>\n",
       "      <th>CO2</th>\n",
       "      <th>H2</th>\n",
       "      <th>SKIN_TEMP_AVG</th>\n",
       "    </tr>\n",
       "  </thead>\n",
       "  <tbody>\n",
       "    <tr>\n",
       "      <th>0</th>\n",
       "      <td>01-07-21 00:10</td>\n",
       "      <td>311727.0</td>\n",
       "      <td>3.15</td>\n",
       "      <td>129.0</td>\n",
       "      <td>4.0</td>\n",
       "      <td>213.0</td>\n",
       "      <td>3.34</td>\n",
       "      <td>3.20</td>\n",
       "      <td>7296.0</td>\n",
       "      <td>23.08</td>\n",
       "      <td>...</td>\n",
       "      <td>135.0</td>\n",
       "      <td>107.0</td>\n",
       "      <td>130.0</td>\n",
       "      <td>0.0</td>\n",
       "      <td>121.0</td>\n",
       "      <td>2.0</td>\n",
       "      <td>22.22</td>\n",
       "      <td>21.00</td>\n",
       "      <td>3.88</td>\n",
       "      <td>69.940478</td>\n",
       "    </tr>\n",
       "    <tr>\n",
       "      <th>1</th>\n",
       "      <td>01-07-21 00:20</td>\n",
       "      <td>315163.0</td>\n",
       "      <td>3.16</td>\n",
       "      <td>129.0</td>\n",
       "      <td>4.0</td>\n",
       "      <td>209.0</td>\n",
       "      <td>3.35</td>\n",
       "      <td>3.20</td>\n",
       "      <td>7829.0</td>\n",
       "      <td>23.08</td>\n",
       "      <td>...</td>\n",
       "      <td>143.0</td>\n",
       "      <td>109.0</td>\n",
       "      <td>128.0</td>\n",
       "      <td>0.0</td>\n",
       "      <td>125.0</td>\n",
       "      <td>1.0</td>\n",
       "      <td>22.56</td>\n",
       "      <td>21.00</td>\n",
       "      <td>3.94</td>\n",
       "      <td>71.454476</td>\n",
       "    </tr>\n",
       "    <tr>\n",
       "      <th>2</th>\n",
       "      <td>01-07-21 00:30</td>\n",
       "      <td>314595.0</td>\n",
       "      <td>3.16</td>\n",
       "      <td>128.0</td>\n",
       "      <td>4.0</td>\n",
       "      <td>205.0</td>\n",
       "      <td>3.35</td>\n",
       "      <td>3.21</td>\n",
       "      <td>7904.0</td>\n",
       "      <td>23.08</td>\n",
       "      <td>...</td>\n",
       "      <td>138.0</td>\n",
       "      <td>110.0</td>\n",
       "      <td>124.0</td>\n",
       "      <td>0.0</td>\n",
       "      <td>124.0</td>\n",
       "      <td>1.0</td>\n",
       "      <td>22.49</td>\n",
       "      <td>21.08</td>\n",
       "      <td>3.94</td>\n",
       "      <td>70.579462</td>\n",
       "    </tr>\n",
       "    <tr>\n",
       "      <th>3</th>\n",
       "      <td>01-07-21 00:40</td>\n",
       "      <td>312465.0</td>\n",
       "      <td>3.16</td>\n",
       "      <td>127.0</td>\n",
       "      <td>4.0</td>\n",
       "      <td>200.0</td>\n",
       "      <td>3.35</td>\n",
       "      <td>3.21</td>\n",
       "      <td>7919.0</td>\n",
       "      <td>23.08</td>\n",
       "      <td>...</td>\n",
       "      <td>128.0</td>\n",
       "      <td>102.0</td>\n",
       "      <td>110.0</td>\n",
       "      <td>0.0</td>\n",
       "      <td>115.0</td>\n",
       "      <td>1.0</td>\n",
       "      <td>22.36</td>\n",
       "      <td>21.13</td>\n",
       "      <td>3.99</td>\n",
       "      <td>70.179791</td>\n",
       "    </tr>\n",
       "    <tr>\n",
       "      <th>4</th>\n",
       "      <td>01-07-21 00:50</td>\n",
       "      <td>302981.0</td>\n",
       "      <td>3.11</td>\n",
       "      <td>126.0</td>\n",
       "      <td>4.0</td>\n",
       "      <td>194.0</td>\n",
       "      <td>3.29</td>\n",
       "      <td>3.16</td>\n",
       "      <td>7938.0</td>\n",
       "      <td>23.08</td>\n",
       "      <td>...</td>\n",
       "      <td>139.0</td>\n",
       "      <td>112.0</td>\n",
       "      <td>124.0</td>\n",
       "      <td>0.0</td>\n",
       "      <td>125.0</td>\n",
       "      <td>1.0</td>\n",
       "      <td>22.25</td>\n",
       "      <td>21.30</td>\n",
       "      <td>4.10</td>\n",
       "      <td>70.728470</td>\n",
       "    </tr>\n",
       "  </tbody>\n",
       "</table>\n",
       "<p>5 rows × 26 columns</p>\n",
       "</div>"
      ],
      "text/plain": [
       "        DATE_TIME   CB_FLOW  CB_PRESS  CB_TEMP  STEAM_FLOW  STEAM_TEMP  \\\n",
       "0  01-07-21 00:10  311727.0      3.15    129.0         4.0       213.0   \n",
       "1  01-07-21 00:20  315163.0      3.16    129.0         4.0       209.0   \n",
       "2  01-07-21 00:30  314595.0      3.16    128.0         4.0       205.0   \n",
       "3  01-07-21 00:40  312465.0      3.16    127.0         4.0       200.0   \n",
       "4  01-07-21 00:50  302981.0      3.11    126.0         4.0       194.0   \n",
       "\n",
       "   STEAM_PRESS  O2_PRESS  O2_FLOW  O2_PER  ...  TOP_TEMP2  TOP_TEMP3  \\\n",
       "0         3.34      3.20   7296.0   23.08  ...      135.0      107.0   \n",
       "1         3.35      3.20   7829.0   23.08  ...      143.0      109.0   \n",
       "2         3.35      3.21   7904.0   23.08  ...      138.0      110.0   \n",
       "3         3.35      3.21   7919.0   23.08  ...      128.0      102.0   \n",
       "4         3.29      3.16   7938.0   23.08  ...      139.0      112.0   \n",
       "\n",
       "   TOP_TEMP4  TOP_SPRAY  TOP_TEMP  TOP_PRESS_1     CO    CO2    H2  \\\n",
       "0      130.0        0.0     121.0          2.0  22.22  21.00  3.88   \n",
       "1      128.0        0.0     125.0          1.0  22.56  21.00  3.94   \n",
       "2      124.0        0.0     124.0          1.0  22.49  21.08  3.94   \n",
       "3      110.0        0.0     115.0          1.0  22.36  21.13  3.99   \n",
       "4      124.0        0.0     125.0          1.0  22.25  21.30  4.10   \n",
       "\n",
       "   SKIN_TEMP_AVG  \n",
       "0      69.940478  \n",
       "1      71.454476  \n",
       "2      70.579462  \n",
       "3      70.179791  \n",
       "4      70.728470  \n",
       "\n",
       "[5 rows x 26 columns]"
      ]
     },
     "execution_count": 189,
     "metadata": {},
     "output_type": "execute_result"
    }
   ],
   "source": [
    "df = pd.read_excel('bf3_data_2022_01_07.xlsx')\n",
    "df.head()"
   ]
  },
  {
   "cell_type": "code",
   "execution_count": 190,
   "metadata": {},
   "outputs": [],
   "source": [
    "# df = df.interpolate()"
   ]
  },
  {
   "cell_type": "markdown",
   "metadata": {},
   "source": [
    "### Convert the string to DateTime Object"
   ]
  },
  {
   "cell_type": "code",
   "execution_count": 191,
   "metadata": {},
   "outputs": [],
   "source": [
    "df['DATE_TIME'] = pd.to_datetime(df['DATE_TIME'], dayfirst=True)"
   ]
  },
  {
   "cell_type": "code",
   "execution_count": 192,
   "metadata": {},
   "outputs": [
    {
     "data": {
      "text/plain": [
       "(25405, 26)"
      ]
     },
     "execution_count": 192,
     "metadata": {},
     "output_type": "execute_result"
    }
   ],
   "source": [
    "df.shape"
   ]
  },
  {
   "cell_type": "markdown",
   "metadata": {},
   "source": [
    "### Check for long gaps (more than 15 minutes) in timestamps and insert empty columns wherever needed."
   ]
  },
  {
   "cell_type": "code",
   "execution_count": 193,
   "metadata": {},
   "outputs": [],
   "source": [
    "actual_len = df.shape[0]\n",
    "\n",
    "for i in range(actual_len-1):\n",
    "    t1 = datetime.strptime(str(df.loc[i]['DATE_TIME']), \"%Y-%m-%d %H:%M:%S\")\n",
    "    t2 = datetime.strptime(str(df.loc[i+1]['DATE_TIME']), \"%Y-%m-%d %H:%M:%S\")\n",
    "    diff = t2-t1\n",
    "    time_diff_min = diff.total_seconds()/60\n",
    "    time_count = 10\n",
    "\n",
    "    if(time_diff_min > 12):\n",
    "        while(time_diff_min > 12):\n",
    "            res = t1 + timedelta(minutes=time_count)\n",
    "            time_count += 10\n",
    "            time_diff_min -= 10\n",
    "            df = pd.concat([df, pd.DataFrame.from_records([{'DATE_TIME': res}])], ignore_index=True)"
   ]
  },
  {
   "cell_type": "code",
   "execution_count": 194,
   "metadata": {},
   "outputs": [],
   "source": [
    "df.sort_values(by=['DATE_TIME'],inplace=True ,ignore_index=True)"
   ]
  },
  {
   "cell_type": "markdown",
   "metadata": {},
   "source": [
    "### Check for maximum difference in timestamps"
   ]
  },
  {
   "cell_type": "code",
   "execution_count": 195,
   "metadata": {},
   "outputs": [
    {
     "name": "stdout",
     "output_type": "stream",
     "text": [
      "The max difference in time intervals : 12.0 minutes.\n"
     ]
    }
   ],
   "source": [
    "max_diff = 0\n",
    "time_set = set({})\n",
    "for i in range(len(df)-1):\n",
    "    t1 = datetime.strptime(str(df.iloc[i]['DATE_TIME']), \"%Y-%m-%d %H:%M:%S\")\n",
    "    t2 = datetime.strptime(str(df.iloc[i+1]['DATE_TIME']), \"%Y-%m-%d %H:%M:%S\")\n",
    "    diff = t2-t1\n",
    "    time_set.add(diff.total_seconds()/60)\n",
    "    max_diff = max(max_diff,diff.total_seconds()/60)\n",
    "        \n",
    "print(f\"The max difference in time intervals : {max_diff} minutes.\")"
   ]
  },
  {
   "cell_type": "code",
   "execution_count": 196,
   "metadata": {},
   "outputs": [
    {
     "data": {
      "text/plain": [
       "{8.0, 9.0, 10.0, 11.0, 12.0}"
      ]
     },
     "execution_count": 196,
     "metadata": {},
     "output_type": "execute_result"
    }
   ],
   "source": [
    "time_set"
   ]
  },
  {
   "cell_type": "markdown",
   "metadata": {},
   "source": [
    "### Fill NULL values using interpolation method"
   ]
  },
  {
   "cell_type": "code",
   "execution_count": 204,
   "metadata": {},
   "outputs": [],
   "source": [
    "new_df = df.copy()"
   ]
  },
  {
   "cell_type": "code",
   "execution_count": 205,
   "metadata": {},
   "outputs": [
    {
     "data": {
      "text/plain": [
       "DATE_TIME           0\n",
       "CB_FLOW          3755\n",
       "CB_PRESS         1122\n",
       "CB_TEMP          1122\n",
       "STEAM_FLOW       3755\n",
       "STEAM_TEMP       1122\n",
       "STEAM_PRESS      1122\n",
       "O2_PRESS         1122\n",
       "O2_FLOW          3755\n",
       "O2_PER           1122\n",
       "PCI              3755\n",
       "ATM_HUMID        1122\n",
       "HB_TEMP          4907\n",
       "HB_PRESS         3836\n",
       "TOP_PRESS        3755\n",
       "TOP_TEMP1        1122\n",
       "TOP_TEMP2        1122\n",
       "TOP_TEMP3        1122\n",
       "TOP_TEMP4        1122\n",
       "TOP_SPRAY        1122\n",
       "TOP_TEMP         1122\n",
       "TOP_PRESS_1      3755\n",
       "CO               3755\n",
       "CO2              3755\n",
       "H2               3755\n",
       "SKIN_TEMP_AVG    1122\n",
       "dtype: int64"
      ]
     },
     "execution_count": 205,
     "metadata": {},
     "output_type": "execute_result"
    }
   ],
   "source": [
    "new_df.isnull().sum()"
   ]
  },
  {
   "cell_type": "code",
   "execution_count": 206,
   "metadata": {},
   "outputs": [],
   "source": [
    "new_df['DATE_TIME'] = new_df['DATE_TIME'].astype(str)"
   ]
  },
  {
   "cell_type": "code",
   "execution_count": 207,
   "metadata": {},
   "outputs": [],
   "source": [
    "new_df = new_df.interpolate()"
   ]
  },
  {
   "cell_type": "code",
   "execution_count": 216,
   "metadata": {},
   "outputs": [
    {
     "name": "stdout",
     "output_type": "stream",
     "text": [
      "2021-07-01 00:10:00\n",
      "2021-07-01 04:10:00\n"
     ]
    }
   ],
   "source": [
    "print(df.iloc[0]['DATE_TIME'])\n",
    "print(df.iloc[24]['DATE_TIME'])"
   ]
  },
  {
   "cell_type": "markdown",
   "metadata": {},
   "source": [
    "### Create columns for the AVG_SKIN_TEMP next 4 hours"
   ]
  },
  {
   "cell_type": "code",
   "execution_count": 217,
   "metadata": {},
   "outputs": [],
   "source": [
    "SAT_1 = []\n",
    "SAT_2 = []\n",
    "SAT_3 = []\n",
    "SAT_4 = []\n",
    "\n",
    "for i in range(len(new_df)-24):\n",
    "\n",
    "    SAT_1.append(new_df.iloc[i+6]['SKIN_TEMP_AVG'])\n",
    "    SAT_2.append(new_df.iloc[i+12]['SKIN_TEMP_AVG'])\n",
    "    SAT_3.append(new_df.iloc[i+18]['SKIN_TEMP_AVG'])\n",
    "    SAT_4.append(new_df.iloc[i+24]['SKIN_TEMP_AVG'])"
   ]
  },
  {
   "cell_type": "code",
   "execution_count": 234,
   "metadata": {},
   "outputs": [],
   "source": [
    "req_len = len(new_df)-24\n",
    "mod_df = new_df.iloc[:req_len,:]"
   ]
  },
  {
   "cell_type": "code",
   "execution_count": 235,
   "metadata": {},
   "outputs": [],
   "source": [
    "mod_df['SAT_1'] = SAT_1\n",
    "mod_df['SAT_2'] = SAT_2\n",
    "mod_df['SAT_3'] = SAT_3\n",
    "mod_df['SAT_4'] = SAT_4"
   ]
  },
  {
   "cell_type": "code",
   "execution_count": 236,
   "metadata": {},
   "outputs": [
    {
     "data": {
      "text/html": [
       "<div>\n",
       "<style scoped>\n",
       "    .dataframe tbody tr th:only-of-type {\n",
       "        vertical-align: middle;\n",
       "    }\n",
       "\n",
       "    .dataframe tbody tr th {\n",
       "        vertical-align: top;\n",
       "    }\n",
       "\n",
       "    .dataframe thead th {\n",
       "        text-align: right;\n",
       "    }\n",
       "</style>\n",
       "<table border=\"1\" class=\"dataframe\">\n",
       "  <thead>\n",
       "    <tr style=\"text-align: right;\">\n",
       "      <th></th>\n",
       "      <th>DATE_TIME</th>\n",
       "      <th>CB_FLOW</th>\n",
       "      <th>CB_PRESS</th>\n",
       "      <th>CB_TEMP</th>\n",
       "      <th>STEAM_FLOW</th>\n",
       "      <th>STEAM_TEMP</th>\n",
       "      <th>STEAM_PRESS</th>\n",
       "      <th>O2_PRESS</th>\n",
       "      <th>O2_FLOW</th>\n",
       "      <th>O2_PER</th>\n",
       "      <th>...</th>\n",
       "      <th>TOP_TEMP</th>\n",
       "      <th>TOP_PRESS_1</th>\n",
       "      <th>CO</th>\n",
       "      <th>CO2</th>\n",
       "      <th>H2</th>\n",
       "      <th>SKIN_TEMP_AVG</th>\n",
       "      <th>SAT_1</th>\n",
       "      <th>SAT_2</th>\n",
       "      <th>SAT_3</th>\n",
       "      <th>SAT_4</th>\n",
       "    </tr>\n",
       "  </thead>\n",
       "  <tbody>\n",
       "    <tr>\n",
       "      <th>0</th>\n",
       "      <td>2021-07-01 00:10:00</td>\n",
       "      <td>311727.0</td>\n",
       "      <td>3.15</td>\n",
       "      <td>129.0</td>\n",
       "      <td>4.0</td>\n",
       "      <td>213.0</td>\n",
       "      <td>3.34</td>\n",
       "      <td>3.20</td>\n",
       "      <td>7296.0</td>\n",
       "      <td>23.08</td>\n",
       "      <td>...</td>\n",
       "      <td>121.0</td>\n",
       "      <td>2.0</td>\n",
       "      <td>22.22</td>\n",
       "      <td>21.00</td>\n",
       "      <td>3.88</td>\n",
       "      <td>69.940478</td>\n",
       "      <td>73.583364</td>\n",
       "      <td>77.713731</td>\n",
       "      <td>82.332439</td>\n",
       "      <td>85.074844</td>\n",
       "    </tr>\n",
       "    <tr>\n",
       "      <th>1</th>\n",
       "      <td>2021-07-01 00:20:00</td>\n",
       "      <td>315163.0</td>\n",
       "      <td>3.16</td>\n",
       "      <td>129.0</td>\n",
       "      <td>4.0</td>\n",
       "      <td>209.0</td>\n",
       "      <td>3.35</td>\n",
       "      <td>3.20</td>\n",
       "      <td>7829.0</td>\n",
       "      <td>23.08</td>\n",
       "      <td>...</td>\n",
       "      <td>125.0</td>\n",
       "      <td>1.0</td>\n",
       "      <td>22.56</td>\n",
       "      <td>21.00</td>\n",
       "      <td>3.94</td>\n",
       "      <td>71.454476</td>\n",
       "      <td>74.666066</td>\n",
       "      <td>77.198904</td>\n",
       "      <td>82.604995</td>\n",
       "      <td>84.877672</td>\n",
       "    </tr>\n",
       "    <tr>\n",
       "      <th>2</th>\n",
       "      <td>2021-07-01 00:30:00</td>\n",
       "      <td>314595.0</td>\n",
       "      <td>3.16</td>\n",
       "      <td>128.0</td>\n",
       "      <td>4.0</td>\n",
       "      <td>205.0</td>\n",
       "      <td>3.35</td>\n",
       "      <td>3.21</td>\n",
       "      <td>7904.0</td>\n",
       "      <td>23.08</td>\n",
       "      <td>...</td>\n",
       "      <td>124.0</td>\n",
       "      <td>1.0</td>\n",
       "      <td>22.49</td>\n",
       "      <td>21.08</td>\n",
       "      <td>3.94</td>\n",
       "      <td>70.579462</td>\n",
       "      <td>74.837214</td>\n",
       "      <td>78.518159</td>\n",
       "      <td>84.475989</td>\n",
       "      <td>83.397999</td>\n",
       "    </tr>\n",
       "    <tr>\n",
       "      <th>3</th>\n",
       "      <td>2021-07-01 00:40:00</td>\n",
       "      <td>312465.0</td>\n",
       "      <td>3.16</td>\n",
       "      <td>127.0</td>\n",
       "      <td>4.0</td>\n",
       "      <td>200.0</td>\n",
       "      <td>3.35</td>\n",
       "      <td>3.21</td>\n",
       "      <td>7919.0</td>\n",
       "      <td>23.08</td>\n",
       "      <td>...</td>\n",
       "      <td>115.0</td>\n",
       "      <td>1.0</td>\n",
       "      <td>22.36</td>\n",
       "      <td>21.13</td>\n",
       "      <td>3.99</td>\n",
       "      <td>70.179791</td>\n",
       "      <td>75.008361</td>\n",
       "      <td>80.865417</td>\n",
       "      <td>84.880888</td>\n",
       "      <td>83.368013</td>\n",
       "    </tr>\n",
       "    <tr>\n",
       "      <th>4</th>\n",
       "      <td>2021-07-01 00:50:00</td>\n",
       "      <td>302981.0</td>\n",
       "      <td>3.11</td>\n",
       "      <td>126.0</td>\n",
       "      <td>4.0</td>\n",
       "      <td>194.0</td>\n",
       "      <td>3.29</td>\n",
       "      <td>3.16</td>\n",
       "      <td>7938.0</td>\n",
       "      <td>23.08</td>\n",
       "      <td>...</td>\n",
       "      <td>125.0</td>\n",
       "      <td>1.0</td>\n",
       "      <td>22.25</td>\n",
       "      <td>21.30</td>\n",
       "      <td>4.10</td>\n",
       "      <td>70.728470</td>\n",
       "      <td>75.799102</td>\n",
       "      <td>82.564532</td>\n",
       "      <td>84.282448</td>\n",
       "      <td>84.592822</td>\n",
       "    </tr>\n",
       "  </tbody>\n",
       "</table>\n",
       "<p>5 rows × 30 columns</p>\n",
       "</div>"
      ],
      "text/plain": [
       "             DATE_TIME   CB_FLOW  CB_PRESS  CB_TEMP  STEAM_FLOW  STEAM_TEMP  \\\n",
       "0  2021-07-01 00:10:00  311727.0      3.15    129.0         4.0       213.0   \n",
       "1  2021-07-01 00:20:00  315163.0      3.16    129.0         4.0       209.0   \n",
       "2  2021-07-01 00:30:00  314595.0      3.16    128.0         4.0       205.0   \n",
       "3  2021-07-01 00:40:00  312465.0      3.16    127.0         4.0       200.0   \n",
       "4  2021-07-01 00:50:00  302981.0      3.11    126.0         4.0       194.0   \n",
       "\n",
       "   STEAM_PRESS  O2_PRESS  O2_FLOW  O2_PER  ...  TOP_TEMP  TOP_PRESS_1     CO  \\\n",
       "0         3.34      3.20   7296.0   23.08  ...     121.0          2.0  22.22   \n",
       "1         3.35      3.20   7829.0   23.08  ...     125.0          1.0  22.56   \n",
       "2         3.35      3.21   7904.0   23.08  ...     124.0          1.0  22.49   \n",
       "3         3.35      3.21   7919.0   23.08  ...     115.0          1.0  22.36   \n",
       "4         3.29      3.16   7938.0   23.08  ...     125.0          1.0  22.25   \n",
       "\n",
       "     CO2    H2  SKIN_TEMP_AVG      SAT_1      SAT_2      SAT_3      SAT_4  \n",
       "0  21.00  3.88      69.940478  73.583364  77.713731  82.332439  85.074844  \n",
       "1  21.00  3.94      71.454476  74.666066  77.198904  82.604995  84.877672  \n",
       "2  21.08  3.94      70.579462  74.837214  78.518159  84.475989  83.397999  \n",
       "3  21.13  3.99      70.179791  75.008361  80.865417  84.880888  83.368013  \n",
       "4  21.30  4.10      70.728470  75.799102  82.564532  84.282448  84.592822  \n",
       "\n",
       "[5 rows x 30 columns]"
      ]
     },
     "execution_count": 236,
     "metadata": {},
     "output_type": "execute_result"
    }
   ],
   "source": [
    "mod_df.head()"
   ]
  },
  {
   "cell_type": "code",
   "execution_count": 237,
   "metadata": {},
   "outputs": [
    {
     "data": {
      "text/plain": [
       "(26471, 30)"
      ]
     },
     "execution_count": 237,
     "metadata": {},
     "output_type": "execute_result"
    }
   ],
   "source": [
    "mod_df.shape"
   ]
  },
  {
   "cell_type": "code",
   "execution_count": 238,
   "metadata": {},
   "outputs": [
    {
     "data": {
      "text/plain": [
       "DATE_TIME        0\n",
       "CB_FLOW          0\n",
       "CB_PRESS         0\n",
       "CB_TEMP          0\n",
       "STEAM_FLOW       0\n",
       "STEAM_TEMP       0\n",
       "STEAM_PRESS      0\n",
       "O2_PRESS         0\n",
       "O2_FLOW          0\n",
       "O2_PER           0\n",
       "PCI              0\n",
       "ATM_HUMID        0\n",
       "HB_TEMP          0\n",
       "HB_PRESS         0\n",
       "TOP_PRESS        0\n",
       "TOP_TEMP1        0\n",
       "TOP_TEMP2        0\n",
       "TOP_TEMP3        0\n",
       "TOP_TEMP4        0\n",
       "TOP_SPRAY        0\n",
       "TOP_TEMP         0\n",
       "TOP_PRESS_1      0\n",
       "CO               0\n",
       "CO2              0\n",
       "H2               0\n",
       "SKIN_TEMP_AVG    0\n",
       "SAT_1            0\n",
       "SAT_2            0\n",
       "SAT_3            0\n",
       "SAT_4            0\n",
       "dtype: int64"
      ]
     },
     "execution_count": 238,
     "metadata": {},
     "output_type": "execute_result"
    }
   ],
   "source": [
    "mod_df.isna().sum()"
   ]
  },
  {
   "cell_type": "markdown",
   "metadata": {},
   "source": [
    "### Save the modified Dataset"
   ]
  },
  {
   "cell_type": "code",
   "execution_count": 239,
   "metadata": {},
   "outputs": [],
   "source": [
    "mod_df.to_csv('modified_bf_data.csv')"
   ]
  },
  {
   "cell_type": "markdown",
   "metadata": {},
   "source": [
    "# <center>---End of Notebook---</center>"
   ]
  }
 ],
 "metadata": {
  "kernelspec": {
   "display_name": "base",
   "language": "python",
   "name": "python3"
  },
  "language_info": {
   "codemirror_mode": {
    "name": "ipython",
    "version": 3
   },
   "file_extension": ".py",
   "mimetype": "text/x-python",
   "name": "python",
   "nbconvert_exporter": "python",
   "pygments_lexer": "ipython3",
   "version": "3.9.12"
  },
  "orig_nbformat": 4
 },
 "nbformat": 4,
 "nbformat_minor": 2
}
